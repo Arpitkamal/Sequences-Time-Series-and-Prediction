{
  "nbformat": 4,
  "nbformat_minor": 0,
  "metadata": {
    "colab": {
      "name": "S+P Week 4 Sunspot full data set with CNN+LSTM.ipynb",
      "provenance": [],
      "authorship_tag": "ABX9TyPU8kZvn19rshESy+C14SjW",
      "include_colab_link": true
    },
    "kernelspec": {
      "name": "python3",
      "display_name": "Python 3"
    }
  },
  "cells": [
    {
      "cell_type": "markdown",
      "metadata": {
        "id": "view-in-github",
        "colab_type": "text"
      },
      "source": [
        "<a href=\"https://colab.research.google.com/github/Arpitkamal/Sequences-Time-Series-and-Prediction/blob/master/S%2BP_Week_4_Sunspot_full_data_set_with_CNN%2BLSTM.ipynb\" target=\"_parent\"><img src=\"https://colab.research.google.com/assets/colab-badge.svg\" alt=\"Open In Colab\"/></a>"
      ]
    },
    {
      "cell_type": "code",
      "metadata": {
        "id": "GNkzTFfynsmV",
        "colab_type": "code",
        "outputId": "3a3fce11-b9fb-4919-a21a-8c29765f2bf8",
        "colab": {
          "base_uri": "https://localhost:8080/",
          "height": 34
        }
      },
      "source": [
        "try:\n",
        "  # %tensorflow_version only exists in Colab.\n",
        "  %tensorflow_version 2.x\n",
        "except Exception:\n",
        "  pass"
      ],
      "execution_count": 0,
      "outputs": [
        {
          "output_type": "stream",
          "text": [
            "TensorFlow 2.x selected.\n"
          ],
          "name": "stdout"
        }
      ]
    },
    {
      "cell_type": "code",
      "metadata": {
        "id": "56XEQOGknrAk",
        "colab_type": "code",
        "outputId": "73d92b54-6318-4780-cce4-b7f7bb8c7133",
        "colab": {
          "base_uri": "https://localhost:8080/",
          "height": 34
        }
      },
      "source": [
        "import tensorflow as tf\n",
        "print(tf.__version__)"
      ],
      "execution_count": 0,
      "outputs": [
        {
          "output_type": "stream",
          "text": [
            "2.2.0-rc1\n"
          ],
          "name": "stdout"
        }
      ]
    },
    {
      "cell_type": "code",
      "metadata": {
        "id": "sLl52leVp5wU",
        "colab_type": "code",
        "colab": {}
      },
      "source": [
        "import numpy as np\n",
        "import matplotlib.pyplot as plt\n",
        "def plot_series(time, series, format=\"-\", start=0, end=None):\n",
        "    plt.plot(time[start:end], series[start:end], format)\n",
        "    plt.xlabel(\"Time\")\n",
        "    plt.ylabel(\"Value\")\n",
        "    plt.grid(True)"
      ],
      "execution_count": 0,
      "outputs": []
    },
    {
      "cell_type": "code",
      "metadata": {
        "id": "tP7oqUdkk0gY",
        "colab_type": "code",
        "outputId": "a88f18f4-c369-4372-cf93-cabe27f40d4c",
        "colab": {
          "base_uri": "https://localhost:8080/",
          "height": 204
        }
      },
      "source": [
        "!wget --no-check-certificate \\\n",
        "    https://raw.githubusercontent.com/jbrownlee/Datasets/master/daily-min-temperatures.csv \\\n",
        "    -O /tmp/daily-min-temperatures.csv"
      ],
      "execution_count": 0,
      "outputs": [
        {
          "output_type": "stream",
          "text": [
            "--2020-03-27 08:57:19--  https://raw.githubusercontent.com/jbrownlee/Datasets/master/daily-min-temperatures.csv\n",
            "Resolving raw.githubusercontent.com (raw.githubusercontent.com)... 151.101.0.133, 151.101.64.133, 151.101.128.133, ...\n",
            "Connecting to raw.githubusercontent.com (raw.githubusercontent.com)|151.101.0.133|:443... connected.\n",
            "HTTP request sent, awaiting response... 200 OK\n",
            "Length: 67921 (66K) [text/plain]\n",
            "Saving to: ‘/tmp/daily-min-temperatures.csv’\n",
            "\n",
            "\r          /tmp/dail   0%[                    ]       0  --.-KB/s               \r/tmp/daily-min-temp 100%[===================>]  66.33K  --.-KB/s    in 0.01s   \n",
            "\n",
            "2020-03-27 08:57:19 (4.74 MB/s) - ‘/tmp/daily-min-temperatures.csv’ saved [67921/67921]\n",
            "\n"
          ],
          "name": "stdout"
        }
      ]
    },
    {
      "cell_type": "code",
      "metadata": {
        "id": "NcG9r1eClbTh",
        "colab_type": "code",
        "outputId": "6075759e-64e5-43f1-87e9-94b89a9ee1e3",
        "colab": {
          "base_uri": "https://localhost:8080/",
          "height": 388
        }
      },
      "source": [
        "import csv\n",
        "time_step = []\n",
        "temps = []\n",
        "\n",
        "with open('/tmp/daily-min-temperatures.csv') as csvfile:\n",
        "  reader = csv.reader(csvfile, delimiter=',')\n",
        "  next(reader)\n",
        "  step=0\n",
        "  for row in reader:\n",
        "    temps.append(float(row[1]))\n",
        "    time_step.append(step)\n",
        "    step = step + 1\n",
        "\n",
        "\n",
        "series = np.array(temps)\n",
        "time = np.array(time_step)\n",
        "plt.figure(figsize=(10, 6))\n",
        "plot_series(time, series)"
      ],
      "execution_count": 0,
      "outputs": [
        {
          "output_type": "display_data",
          "data": {
            "image/png": "[encoded data removed]",
            "text/plain": [
              "<Figure size 720x432 with 1 Axes>"
            ]
          },
          "metadata": {
            "tags": []
          }
        }
      ]
    },
    {
      "cell_type": "code",
      "metadata": {
        "id": "L92YRw_IpCFG",
        "colab_type": "code",
        "colab": {}
      },
      "source": [
        "split_time = 2500\n",
        "time_train = time[:split_time]\n",
        "x_train = series[:split_time]\n",
        "time_valid = time[split_time:]\n",
        "x_valid = series[split_time:]\n",
        "\n",
        "\n",
        "window_size = 30\n",
        "batch_size = 32\n",
        "shuffle_buffer_size = 1000\n",
        "\n"
      ],
      "execution_count": 0,
      "outputs": []
    },
    {
      "cell_type": "code",
      "metadata": {
        "id": "lJwUUZscnG38",
        "colab_type": "code",
        "colab": {}
      },
      "source": [
        "def windowed_dataset(series, window_size, batch_size, shuffle_buffer):\n",
        "    series = tf.expand_dims(series, axis=-1)\n",
        "    ds = tf.data.Dataset.from_tensor_slices(series)\n",
        "    ds = ds.window(window_size + 1, shift=1, drop_remainder=True)\n",
        "    ds = ds.flat_map(lambda w: w.batch(window_size + 1))\n",
        "    ds = ds.shuffle(shuffle_buffer)\n",
        "    ds = ds.map(lambda w: (w[:-1], w[1:]))\n",
        "    return ds.batch(batch_size).prefetch(1)"
      ],
      "execution_count": 0,
      "outputs": []
    },
    {
      "cell_type": "code",
      "metadata": {
        "id": "4XwGrf-A_wF0",
        "colab_type": "code",
        "colab": {}
      },
      "source": [
        "def model_forecast(model, series, window_size):\n",
        "    ds = tf.data.Dataset.from_tensor_slices(series)\n",
        "    ds = ds.window(window_size, shift=1, drop_remainder=True)\n",
        "    ds = ds.flat_map(lambda w: w.batch(window_size))\n",
        "    ds = ds.batch(32).prefetch(1)\n",
        "    forecast = model.predict(ds)\n",
        "    return forecast"
      ],
      "execution_count": 0,
      "outputs": []
    },
    {
      "cell_type": "code",
      "metadata": {
        "id": "AclfYY3Mn6Ph",
        "colab_type": "code",
        "outputId": "1446d3e2-57b8-4020-a545-cf94cb3e8ae5",
        "colab": {
          "base_uri": "https://localhost:8080/",
          "height": 1000
        }
      },
      "source": [
        "tf.keras.backend.clear_session()\n",
        "tf.random.set_seed(51)\n",
        "np.random.seed(51)\n",
        "window_size = 64\n",
        "batch_size = 256\n",
        "train_set = windowed_dataset(x_train, window_size, batch_size, shuffle_buffer_size)\n",
        "print(train_set)\n",
        "print(x_train.shape)\n",
        "\n",
        "model = tf.keras.models.Sequential([\n",
        "         tf.keras.layers.Conv1D(filters=32, kernel_size=5,\n",
        "                      strides=1, padding=\"causal\",\n",
        "                      activation=\"relu\",\n",
        "                      input_shape=[None, 1]),\n",
        "         tf.keras.layers.LSTM(64, return_sequences=True),\n",
        "         tf.keras.layers.LSTM(64, return_sequences=True),\n",
        "         tf.keras.layers.Dense(30, activation=\"relu\"),\n",
        "         tf.keras.layers.Dense(10, activation=\"relu\"),\n",
        "         tf.keras.layers.Dense(1),\n",
        "         tf.keras.layers.Lambda(lambda x: x * 400)\n",
        "])\n",
        "\n",
        "lr_schedule = tf.keras.callbacks.LearningRateScheduler(\n",
        "    lambda epoch: 1e-8 * 10**(epoch / 20))\n",
        "optimizer = tf.keras.optimizers.SGD(lr=1e-8, momentum=0.9)\n",
        "model.compile(loss=tf.keras.losses.Huber(),\n",
        "              optimizer=optimizer,\n",
        "              metrics=[\"mae\"])\n",
        "history = model.fit(train_set, epochs=100, callbacks=[lr_schedule])\n",
        "\n",
        "\n"
      ],
      "execution_count": 0,
      "outputs": [
        {
          "output_type": "stream",
          "text": [
            "<PrefetchDataset shapes: ((None, None, 1), (None, None, 1)), types: (tf.float64, tf.float64)>\n",
            "(2500,)\n",
            "Epoch 1/100\n",
            "10/10 [==============================] - 0s 22ms/step - loss: 31.1706 - mae: 31.6550 - lr: 1.0000e-08\n",
            "Epoch 2/100\n",
            "10/10 [==============================] - 0s 23ms/step - loss: 30.5228 - mae: 31.0756 - lr: 1.1220e-08\n",
            "Epoch 3/100\n",
            "10/10 [==============================] - 0s 22ms/step - loss: 29.6681 - mae: 30.1801 - lr: 1.2589e-08\n",
            "Epoch 4/100\n",
            "10/10 [==============================] - 0s 22ms/step - loss: 28.6311 - mae: 29.0586 - lr: 1.4125e-08\n",
            "Epoch 5/100\n",
            "10/10 [==============================] - 0s 23ms/step - loss: 27.1851 - mae: 27.6945 - lr: 1.5849e-08\n",
            "Epoch 6/100\n",
            "10/10 [==============================] - 0s 23ms/step - loss: 25.5238 - mae: 25.9986 - lr: 1.7783e-08\n",
            "Epoch 7/100\n",
            "10/10 [==============================] - 0s 24ms/step - loss: 23.2871 - mae: 23.8429 - lr: 1.9953e-08\n",
            "Epoch 8/100\n",
            "10/10 [==============================] - 0s 24ms/step - loss: 20.5082 - mae: 21.1108 - lr: 2.2387e-08\n",
            "Epoch 9/100\n",
            "10/10 [==============================] - 0s 22ms/step - loss: 17.1935 - mae: 17.8091 - lr: 2.5119e-08\n",
            "Epoch 10/100\n",
            "10/10 [==============================] - 0s 23ms/step - loss: 13.4642 - mae: 14.1371 - lr: 2.8184e-08\n",
            "Epoch 11/100\n",
            "10/10 [==============================] - 0s 23ms/step - loss: 10.0364 - mae: 10.6152 - lr: 3.1623e-08\n",
            "Epoch 12/100\n",
            "10/10 [==============================] - 0s 22ms/step - loss: 7.5764 - mae: 8.1025 - lr: 3.5481e-08\n",
            "Epoch 13/100\n",
            "10/10 [==============================] - 0s 21ms/step - loss: 6.2482 - mae: 6.7711 - lr: 3.9811e-08\n",
            "Epoch 14/100\n",
            "10/10 [==============================] - 0s 24ms/step - loss: 5.6777 - mae: 6.1856 - lr: 4.4668e-08\n",
            "Epoch 15/100\n",
            "10/10 [==============================] - 0s 22ms/step - loss: 5.3116 - mae: 5.8166 - lr: 5.0119e-08\n",
            "Epoch 16/100\n",
            "10/10 [==============================] - 0s 24ms/step - loss: 4.9275 - mae: 5.4206 - lr: 5.6234e-08\n",
            "Epoch 17/100\n",
            "10/10 [==============================] - 0s 22ms/step - loss: 4.5450 - mae: 5.0338 - lr: 6.3096e-08\n",
            "Epoch 18/100\n",
            "10/10 [==============================] - 0s 21ms/step - loss: 4.2185 - mae: 4.7085 - lr: 7.0795e-08\n",
            "Epoch 19/100\n",
            "10/10 [==============================] - 0s 20ms/step - loss: 3.9399 - mae: 4.4360 - lr: 7.9433e-08\n",
            "Epoch 20/100\n",
            "10/10 [==============================] - 0s 22ms/step - loss: 3.7303 - mae: 4.2177 - lr: 8.9125e-08\n",
            "Epoch 21/100\n",
            "10/10 [==============================] - 0s 22ms/step - loss: 3.5704 - mae: 4.0566 - lr: 1.0000e-07\n",
            "Epoch 22/100\n",
            "10/10 [==============================] - 0s 23ms/step - loss: 3.4603 - mae: 3.9344 - lr: 1.1220e-07\n",
            "Epoch 23/100\n",
            "10/10 [==============================] - 0s 23ms/step - loss: 3.3656 - mae: 3.8414 - lr: 1.2589e-07\n",
            "Epoch 24/100\n",
            "10/10 [==============================] - 0s 23ms/step - loss: 3.2869 - mae: 3.7645 - lr: 1.4125e-07\n",
            "Epoch 25/100\n",
            "10/10 [==============================] - 0s 23ms/step - loss: 3.2232 - mae: 3.6978 - lr: 1.5849e-07\n",
            "Epoch 26/100\n",
            "10/10 [==============================] - 0s 22ms/step - loss: 3.1540 - mae: 3.6346 - lr: 1.7783e-07\n",
            "Epoch 27/100\n",
            "10/10 [==============================] - 0s 22ms/step - loss: 3.1000 - mae: 3.5693 - lr: 1.9953e-07\n",
            "Epoch 28/100\n",
            "10/10 [==============================] - 0s 24ms/step - loss: 3.0355 - mae: 3.5053 - lr: 2.2387e-07\n",
            "Epoch 29/100\n",
            "10/10 [==============================] - 0s 24ms/step - loss: 2.9662 - mae: 3.4379 - lr: 2.5119e-07\n",
            "Epoch 30/100\n",
            "10/10 [==============================] - 0s 22ms/step - loss: 2.9018 - mae: 3.3712 - lr: 2.8184e-07\n",
            "Epoch 31/100\n",
            "10/10 [==============================] - 0s 23ms/step - loss: 2.8406 - mae: 3.3098 - lr: 3.1623e-07\n",
            "Epoch 32/100\n",
            "10/10 [==============================] - 0s 22ms/step - loss: 2.7815 - mae: 3.2479 - lr: 3.5481e-07\n",
            "Epoch 33/100\n",
            "10/10 [==============================] - 0s 22ms/step - loss: 2.7205 - mae: 3.1891 - lr: 3.9811e-07\n",
            "Epoch 34/100\n",
            "10/10 [==============================] - 0s 28ms/step - loss: 2.6695 - mae: 3.1379 - lr: 4.4668e-07\n",
            "Epoch 35/100\n",
            "10/10 [==============================] - 0s 24ms/step - loss: 2.6166 - mae: 3.0848 - lr: 5.0119e-07\n",
            "Epoch 36/100\n",
            "10/10 [==============================] - 0s 24ms/step - loss: 2.5696 - mae: 3.0357 - lr: 5.6234e-07\n",
            "Epoch 37/100\n",
            "10/10 [==============================] - 0s 21ms/step - loss: 2.5223 - mae: 2.9877 - lr: 6.3096e-07\n",
            "Epoch 38/100\n",
            "10/10 [==============================] - 0s 24ms/step - loss: 2.4715 - mae: 2.9415 - lr: 7.0795e-07\n",
            "Epoch 39/100\n",
            "10/10 [==============================] - 0s 21ms/step - loss: 2.4295 - mae: 2.8968 - lr: 7.9433e-07\n",
            "Epoch 40/100\n",
            "10/10 [==============================] - 0s 24ms/step - loss: 2.3863 - mae: 2.8541 - lr: 8.9125e-07\n",
            "Epoch 41/100\n",
            "10/10 [==============================] - 0s 21ms/step - loss: 2.3447 - mae: 2.8124 - lr: 1.0000e-06\n",
            "Epoch 42/100\n",
            "10/10 [==============================] - 0s 23ms/step - loss: 2.3051 - mae: 2.7718 - lr: 1.1220e-06\n",
            "Epoch 43/100\n",
            "10/10 [==============================] - 0s 22ms/step - loss: 2.2710 - mae: 2.7315 - lr: 1.2589e-06\n",
            "Epoch 44/100\n",
            "10/10 [==============================] - 0s 24ms/step - loss: 2.2294 - mae: 2.6913 - lr: 1.4125e-06\n",
            "Epoch 45/100\n",
            "10/10 [==============================] - 0s 23ms/step - loss: 2.1910 - mae: 2.6523 - lr: 1.5849e-06\n",
            "Epoch 46/100\n",
            "10/10 [==============================] - 0s 23ms/step - loss: 2.1624 - mae: 2.6190 - lr: 1.7783e-06\n",
            "Epoch 47/100\n",
            "10/10 [==============================] - 0s 21ms/step - loss: 2.1291 - mae: 2.5877 - lr: 1.9953e-06\n",
            "Epoch 48/100\n",
            "10/10 [==============================] - 0s 22ms/step - loss: 2.0990 - mae: 2.5607 - lr: 2.2387e-06\n",
            "Epoch 49/100\n",
            "10/10 [==============================] - 0s 22ms/step - loss: 2.0698 - mae: 2.5300 - lr: 2.5119e-06\n",
            "Epoch 50/100\n",
            "10/10 [==============================] - 0s 23ms/step - loss: 2.0455 - mae: 2.5040 - lr: 2.8184e-06\n",
            "Epoch 51/100\n",
            "10/10 [==============================] - 0s 26ms/step - loss: 2.0226 - mae: 2.4818 - lr: 3.1623e-06\n",
            "Epoch 52/100\n",
            "10/10 [==============================] - 0s 24ms/step - loss: 2.0002 - mae: 2.4598 - lr: 3.5481e-06\n",
            "Epoch 53/100\n",
            "10/10 [==============================] - 0s 24ms/step - loss: 1.9872 - mae: 2.4444 - lr: 3.9811e-06\n",
            "Epoch 54/100\n",
            "10/10 [==============================] - 0s 23ms/step - loss: 1.9620 - mae: 2.4193 - lr: 4.4668e-06\n",
            "Epoch 55/100\n",
            "10/10 [==============================] - 0s 22ms/step - loss: 1.9474 - mae: 2.4008 - lr: 5.0119e-06\n",
            "Epoch 56/100\n",
            "10/10 [==============================] - 0s 23ms/step - loss: 1.9220 - mae: 2.3784 - lr: 5.6234e-06\n",
            "Epoch 57/100\n",
            "10/10 [==============================] - 0s 23ms/step - loss: 1.9025 - mae: 2.3620 - lr: 6.3096e-06\n",
            "Epoch 58/100\n",
            "10/10 [==============================] - 0s 21ms/step - loss: 1.8872 - mae: 2.3394 - lr: 7.0795e-06\n",
            "Epoch 59/100\n",
            "10/10 [==============================] - 0s 22ms/step - loss: 1.8567 - mae: 2.3120 - lr: 7.9433e-06\n",
            "Epoch 60/100\n",
            "10/10 [==============================] - 0s 22ms/step - loss: 2.1804 - mae: 2.6553 - lr: 8.9125e-06\n",
            "Epoch 61/100\n",
            "10/10 [==============================] - 0s 22ms/step - loss: 2.6806 - mae: 3.1565 - lr: 1.0000e-05\n",
            "Epoch 62/100\n",
            "10/10 [==============================] - 0s 22ms/step - loss: 3.0775 - mae: 3.5612 - lr: 1.1220e-05\n",
            "Epoch 63/100\n",
            "10/10 [==============================] - 0s 22ms/step - loss: 3.5626 - mae: 3.9951 - lr: 1.2589e-05\n",
            "Epoch 64/100\n",
            "10/10 [==============================] - 0s 21ms/step - loss: 3.6610 - mae: 4.1386 - lr: 1.4125e-05\n",
            "Epoch 65/100\n",
            "10/10 [==============================] - 0s 23ms/step - loss: 4.1850 - mae: 4.6938 - lr: 1.5849e-05\n",
            "Epoch 66/100\n",
            "10/10 [==============================] - 0s 23ms/step - loss: 4.3615 - mae: 4.8701 - lr: 1.7783e-05\n",
            "Epoch 67/100\n",
            "10/10 [==============================] - 0s 22ms/step - loss: 4.6188 - mae: 5.1186 - lr: 1.9953e-05\n",
            "Epoch 68/100\n",
            "10/10 [==============================] - 0s 21ms/step - loss: 4.6697 - mae: 5.1878 - lr: 2.2387e-05\n",
            "Epoch 69/100\n",
            "10/10 [==============================] - 0s 22ms/step - loss: 4.8847 - mae: 5.4779 - lr: 2.5119e-05\n",
            "Epoch 70/100\n",
            "10/10 [==============================] - 0s 21ms/step - loss: 4.9952 - mae: 5.5756 - lr: 2.8184e-05\n",
            "Epoch 71/100\n",
            "10/10 [==============================] - 0s 23ms/step - loss: 8.0796 - mae: 8.2080 - lr: 3.1623e-05\n",
            "Epoch 72/100\n",
            "10/10 [==============================] - 0s 25ms/step - loss: 9.8663 - mae: 10.7277 - lr: 3.5481e-05\n",
            "Epoch 73/100\n",
            "10/10 [==============================] - 0s 23ms/step - loss: 7.8202 - mae: 8.2138 - lr: 3.9811e-05\n",
            "Epoch 74/100\n",
            "10/10 [==============================] - 0s 24ms/step - loss: 12.1268 - mae: 12.1739 - lr: 4.4668e-05\n",
            "Epoch 75/100\n",
            "10/10 [==============================] - 0s 22ms/step - loss: 8.1118 - mae: 8.6082 - lr: 5.0119e-05\n",
            "Epoch 76/100\n",
            "10/10 [==============================] - 0s 24ms/step - loss: 6.1509 - mae: 6.7259 - lr: 5.6234e-05\n",
            "Epoch 77/100\n",
            "10/10 [==============================] - 0s 21ms/step - loss: 4.6054 - mae: 5.0342 - lr: 6.3096e-05\n",
            "Epoch 78/100\n",
            "10/10 [==============================] - 0s 23ms/step - loss: 3.8307 - mae: 4.2450 - lr: 7.0795e-05\n",
            "Epoch 79/100\n",
            "10/10 [==============================] - 0s 23ms/step - loss: 4.0159 - mae: 4.5224 - lr: 7.9433e-05\n",
            "Epoch 80/100\n",
            "10/10 [==============================] - 0s 26ms/step - loss: 4.3880 - mae: 4.9156 - lr: 8.9125e-05\n",
            "Epoch 81/100\n",
            "10/10 [==============================] - 0s 24ms/step - loss: 4.4355 - mae: 4.9203 - lr: 1.0000e-04\n",
            "Epoch 82/100\n",
            "10/10 [==============================] - 0s 24ms/step - loss: 4.5882 - mae: 5.0357 - lr: 1.1220e-04\n",
            "Epoch 83/100\n",
            "10/10 [==============================] - 0s 26ms/step - loss: 4.0798 - mae: 4.6307 - lr: 1.2589e-04\n",
            "Epoch 84/100\n",
            "10/10 [==============================] - 0s 25ms/step - loss: 5.2329 - mae: 5.8596 - lr: 1.4125e-04\n",
            "Epoch 85/100\n",
            "10/10 [==============================] - 0s 23ms/step - loss: 24.2633 - mae: 24.3797 - lr: 1.5849e-04\n",
            "Epoch 86/100\n",
            "10/10 [==============================] - 0s 23ms/step - loss: 39.7227 - mae: 40.9879 - lr: 1.7783e-04\n",
            "Epoch 87/100\n",
            "10/10 [==============================] - 0s 23ms/step - loss: 49.4179 - mae: 50.1980 - lr: 1.9953e-04\n",
            "Epoch 88/100\n",
            "10/10 [==============================] - 0s 27ms/step - loss: 17.8689 - mae: 18.0496 - lr: 2.2387e-04\n",
            "Epoch 89/100\n",
            "10/10 [==============================] - 0s 22ms/step - loss: 20.6350 - mae: 20.8850 - lr: 2.5119e-04\n",
            "Epoch 90/100\n",
            "10/10 [==============================] - 0s 23ms/step - loss: 23.1422 - mae: 23.8352 - lr: 2.8184e-04\n",
            "Epoch 91/100\n",
            "10/10 [==============================] - 0s 24ms/step - loss: 26.0398 - mae: 26.0664 - lr: 3.1623e-04\n",
            "Epoch 92/100\n",
            "10/10 [==============================] - 0s 24ms/step - loss: 29.2570 - mae: 30.0063 - lr: 3.5481e-04\n",
            "Epoch 93/100\n",
            "10/10 [==============================] - 0s 23ms/step - loss: 32.8282 - mae: 32.8160 - lr: 3.9811e-04\n",
            "Epoch 94/100\n",
            "10/10 [==============================] - 0s 24ms/step - loss: 37.0425 - mae: 37.7578 - lr: 4.4668e-04\n",
            "Epoch 95/100\n",
            "10/10 [==============================] - 0s 23ms/step - loss: 41.5058 - mae: 41.4531 - lr: 5.0119e-04\n",
            "Epoch 96/100\n",
            "10/10 [==============================] - 0s 22ms/step - loss: 46.8304 - mae: 47.5106 - lr: 5.6234e-04\n",
            "Epoch 97/100\n",
            "10/10 [==============================] - 0s 24ms/step - loss: 52.3758 - mae: 52.2648 - lr: 6.3096e-04\n",
            "Epoch 98/100\n",
            "10/10 [==============================] - 0s 22ms/step - loss: 59.0100 - mae: 59.6337 - lr: 7.0795e-04\n",
            "Epoch 99/100\n",
            "10/10 [==============================] - 0s 22ms/step - loss: 65.9404 - mae: 65.7985 - lr: 7.9433e-04\n",
            "Epoch 100/100\n",
            "10/10 [==============================] - 0s 23ms/step - loss: 74.2259 - mae: 74.8019 - lr: 8.9125e-04\n"
          ],
          "name": "stdout"
        }
      ]
    },
    {
      "cell_type": "code",
      "metadata": {
        "id": "vVcKmg7Q_7rD",
        "colab_type": "code",
        "outputId": "ce8f4197-aef3-41ec-cdda-c8ca93cb9ce9",
        "colab": {
          "base_uri": "https://localhost:8080/",
          "height": 290
        }
      },
      "source": [
        "plt.semilogx(history.history[\"lr\"], history.history[\"loss\"])\n",
        "plt.axis([1e-8, 1e-4, 0, 60])"
      ],
      "execution_count": 0,
      "outputs": [
        {
          "output_type": "execute_result",
          "data": {
            "text/plain": [
              "(1e-08, 0.0001, 0.0, 60.0)"
            ]
          },
          "metadata": {
            "tags": []
          },
          "execution_count": 10
        },
        {
          "output_type": "display_data",
          "data": {
            "image/png": "[encoded data removed]",
            "text/plain": [
              "<Figure size 432x288 with 1 Axes>"
            ]
          },
          "metadata": {
            "tags": []
          }
        }
      ]
    },
    {
      "cell_type": "code",
      "metadata": {
        "id": "QsksvkcXAAgq",
        "colab_type": "code",
        "outputId": "a6bd5c09-d2a7-440f-f51c-4155fb4b49d3",
        "colab": {
          "base_uri": "https://localhost:8080/",
          "height": 1000
        }
      },
      "source": [
        "tf.keras.backend.clear_session()\n",
        "tf.random.set_seed(51)\n",
        "np.random.seed(51)\n",
        "train_set = windowed_dataset(x_train, window_size=60, batch_size=200, shuffle_buffer=shuffle_buffer_size)\n",
        "model = tf.keras.models.Sequential([\n",
        "          tf.keras.layers.Conv1D(filters=60, kernel_size=5,\n",
        "                      strides=1, padding=\"causal\",\n",
        "                      activation=\"relu\",\n",
        "                      input_shape=[None, 1]),\n",
        "          tf.keras.layers.LSTM(60, return_sequences=True),\n",
        "          tf.keras.layers.LSTM(60, return_sequences=True),\n",
        "          tf.keras.layers.Dense(30, activation=\"relu\"),\n",
        "          tf.keras.layers.Dense(10, activation=\"relu\"),\n",
        "          tf.keras.layers.Dense(1),\n",
        "          tf.keras.layers.Lambda(lambda x: x * 400) \n",
        "])\n",
        "\n",
        "\n",
        "optimizer = tf.keras.optimizers.SGD(lr=1e-5, momentum=0.9)\n",
        "model.compile(loss=tf.keras.losses.Huber(),\n",
        "              optimizer=optimizer,\n",
        "              metrics=[\"mae\"])\n",
        "history = model.fit(train_set,epochs=150)\n",
        "                                    \n"
      ],
      "execution_count": 0,
      "outputs": [
        {
          "output_type": "stream",
          "text": [
            "ERROR! Session/line number was not unique in database. History logging moved to new session 59\n",
            "Epoch 1/150\n",
            "13/13 [==============================] - 0s 18ms/step - loss: 13.9252 - mae: 15.0428\n",
            "Epoch 2/150\n",
            "13/13 [==============================] - 0s 20ms/step - loss: 6.2214 - mae: 6.8365\n",
            "Epoch 3/150\n",
            "13/13 [==============================] - 0s 20ms/step - loss: 3.5018 - mae: 4.0435\n",
            "Epoch 4/150\n",
            "13/13 [==============================] - 0s 20ms/step - loss: 2.4075 - mae: 2.8808\n",
            "Epoch 5/150\n",
            "13/13 [==============================] - 0s 22ms/step - loss: 2.1060 - mae: 2.5693\n",
            "Epoch 6/150\n",
            "13/13 [==============================] - 0s 19ms/step - loss: 2.0323 - mae: 2.4908\n",
            "Epoch 7/150\n",
            "13/13 [==============================] - 0s 18ms/step - loss: 1.9612 - mae: 2.4209\n",
            "Epoch 8/150\n",
            "13/13 [==============================] - 0s 19ms/step - loss: 1.9214 - mae: 2.3829\n",
            "Epoch 9/150\n",
            "13/13 [==============================] - 0s 18ms/step - loss: 1.9010 - mae: 2.3592\n",
            "Epoch 10/150\n",
            "13/13 [==============================] - 0s 19ms/step - loss: 1.8780 - mae: 2.3345\n",
            "Epoch 11/150\n",
            "13/13 [==============================] - 0s 18ms/step - loss: 1.8605 - mae: 2.3129\n",
            "Epoch 12/150\n",
            "13/13 [==============================] - 0s 20ms/step - loss: 1.8412 - mae: 2.2934\n",
            "Epoch 13/150\n",
            "13/13 [==============================] - 0s 19ms/step - loss: 1.8291 - mae: 2.2773\n",
            "Epoch 14/150\n",
            "13/13 [==============================] - 0s 18ms/step - loss: 1.8066 - mae: 2.2597\n",
            "Epoch 15/150\n",
            "13/13 [==============================] - 0s 19ms/step - loss: 1.7946 - mae: 2.2454\n",
            "Epoch 16/150\n",
            "13/13 [==============================] - 0s 18ms/step - loss: 1.7807 - mae: 2.2330\n",
            "Epoch 17/150\n",
            "13/13 [==============================] - 0s 21ms/step - loss: 1.7641 - mae: 2.2222\n",
            "Epoch 18/150\n",
            "13/13 [==============================] - 0s 20ms/step - loss: 1.7504 - mae: 2.2066\n",
            "Epoch 19/150\n",
            "13/13 [==============================] - 0s 19ms/step - loss: 1.7430 - mae: 2.1973\n",
            "Epoch 20/150\n",
            "13/13 [==============================] - 0s 17ms/step - loss: 1.7403 - mae: 2.1921\n",
            "Epoch 21/150\n",
            "13/13 [==============================] - 0s 18ms/step - loss: 1.7254 - mae: 2.1765\n",
            "Epoch 22/150\n",
            "13/13 [==============================] - 0s 19ms/step - loss: 1.7113 - mae: 2.1625\n",
            "Epoch 23/150\n",
            "13/13 [==============================] - 0s 19ms/step - loss: 1.7054 - mae: 2.1560\n",
            "Epoch 24/150\n",
            "13/13 [==============================] - 0s 21ms/step - loss: 1.6887 - mae: 2.1467\n",
            "Epoch 25/150\n",
            "13/13 [==============================] - 0s 21ms/step - loss: 1.6879 - mae: 2.1386\n",
            "Epoch 26/150\n",
            "13/13 [==============================] - 0s 20ms/step - loss: 1.6756 - mae: 2.1317\n",
            "Epoch 27/150\n",
            "13/13 [==============================] - 0s 19ms/step - loss: 1.6750 - mae: 2.1232\n",
            "Epoch 28/150\n",
            "13/13 [==============================] - 0s 20ms/step - loss: 1.6618 - mae: 2.1140\n",
            "Epoch 29/150\n",
            "13/13 [==============================] - 0s 20ms/step - loss: 1.6555 - mae: 2.1098\n",
            "Epoch 30/150\n",
            "13/13 [==============================] - 0s 22ms/step - loss: 1.6524 - mae: 2.1028\n",
            "Epoch 31/150\n",
            "13/13 [==============================] - 0s 18ms/step - loss: 1.6462 - mae: 2.0948\n",
            "Epoch 32/150\n",
            "13/13 [==============================] - 0s 19ms/step - loss: 1.6432 - mae: 2.0892\n",
            "Epoch 33/150\n",
            "13/13 [==============================] - 0s 19ms/step - loss: 1.6302 - mae: 2.0819\n",
            "Epoch 34/150\n",
            "13/13 [==============================] - 0s 20ms/step - loss: 1.6283 - mae: 2.0784\n",
            "Epoch 35/150\n",
            "13/13 [==============================] - 0s 17ms/step - loss: 1.6272 - mae: 2.0781\n",
            "Epoch 36/150\n",
            "13/13 [==============================] - 0s 19ms/step - loss: 1.6158 - mae: 2.0662\n",
            "Epoch 37/150\n",
            "13/13 [==============================] - 0s 19ms/step - loss: 1.6141 - mae: 2.0619\n",
            "Epoch 38/150\n",
            "13/13 [==============================] - 0s 20ms/step - loss: 1.6139 - mae: 2.0581\n",
            "Epoch 39/150\n",
            "13/13 [==============================] - 0s 18ms/step - loss: 1.6029 - mae: 2.0526\n",
            "Epoch 40/150\n",
            "13/13 [==============================] - 0s 20ms/step - loss: 1.6015 - mae: 2.0483\n",
            "Epoch 41/150\n",
            "13/13 [==============================] - 0s 19ms/step - loss: 1.5945 - mae: 2.0436\n",
            "Epoch 42/150\n",
            "13/13 [==============================] - 0s 20ms/step - loss: 1.5941 - mae: 2.0392\n",
            "Epoch 43/150\n",
            "13/13 [==============================] - 0s 20ms/step - loss: 1.5878 - mae: 2.0349\n",
            "Epoch 44/150\n",
            "13/13 [==============================] - 0s 20ms/step - loss: 1.5890 - mae: 2.0320\n",
            "Epoch 45/150\n",
            "13/13 [==============================] - 0s 19ms/step - loss: 1.5841 - mae: 2.0325\n",
            "Epoch 46/150\n",
            "13/13 [==============================] - 0s 19ms/step - loss: 1.5822 - mae: 2.0261\n",
            "Epoch 47/150\n",
            "13/13 [==============================] - 0s 18ms/step - loss: 1.5753 - mae: 2.0200\n",
            "Epoch 48/150\n",
            "13/13 [==============================] - 0s 19ms/step - loss: 1.5762 - mae: 2.0200\n",
            "Epoch 49/150\n",
            "13/13 [==============================] - 0s 19ms/step - loss: 1.5682 - mae: 2.0155\n",
            "Epoch 50/150\n",
            "13/13 [==============================] - 0s 19ms/step - loss: 1.5644 - mae: 2.0118\n",
            "Epoch 51/150\n",
            "13/13 [==============================] - 0s 19ms/step - loss: 1.5660 - mae: 2.0119\n",
            "Epoch 52/150\n",
            "13/13 [==============================] - 0s 19ms/step - loss: 1.5696 - mae: 2.0160\n",
            "Epoch 53/150\n",
            "13/13 [==============================] - 0s 17ms/step - loss: 1.5623 - mae: 2.0058\n",
            "Epoch 54/150\n",
            "13/13 [==============================] - 0s 20ms/step - loss: 1.5615 - mae: 2.0017\n",
            "Epoch 55/150\n",
            "13/13 [==============================] - 0s 19ms/step - loss: 1.5555 - mae: 1.9984\n",
            "Epoch 56/150\n",
            "13/13 [==============================] - 0s 17ms/step - loss: 1.5525 - mae: 1.9958\n",
            "Epoch 57/150\n",
            "13/13 [==============================] - 0s 18ms/step - loss: 1.5453 - mae: 1.9942\n",
            "Epoch 58/150\n",
            "13/13 [==============================] - 0s 20ms/step - loss: 1.5522 - mae: 1.9971\n",
            "Epoch 59/150\n",
            "13/13 [==============================] - 0s 18ms/step - loss: 1.5433 - mae: 1.9912\n",
            "Epoch 60/150\n",
            "13/13 [==============================] - 0s 20ms/step - loss: 1.5493 - mae: 1.9872\n",
            "Epoch 61/150\n",
            "13/13 [==============================] - 0s 19ms/step - loss: 1.5431 - mae: 1.9863\n",
            "Epoch 62/150\n",
            "13/13 [==============================] - 0s 19ms/step - loss: 1.5452 - mae: 1.9863\n",
            "Epoch 63/150\n",
            "13/13 [==============================] - 0s 19ms/step - loss: 1.5340 - mae: 1.9823\n",
            "Epoch 64/150\n",
            "13/13 [==============================] - 0s 19ms/step - loss: 1.5394 - mae: 1.9805\n",
            "Epoch 65/150\n",
            "13/13 [==============================] - 0s 23ms/step - loss: 1.5373 - mae: 1.9834\n",
            "Epoch 66/150\n",
            "13/13 [==============================] - 0s 19ms/step - loss: 1.5370 - mae: 1.9773\n",
            "Epoch 67/150\n",
            "13/13 [==============================] - 0s 18ms/step - loss: 1.5387 - mae: 1.9795\n",
            "Epoch 68/150\n",
            "13/13 [==============================] - 0s 20ms/step - loss: 1.5378 - mae: 1.9827\n",
            "Epoch 69/150\n",
            "13/13 [==============================] - 0s 20ms/step - loss: 1.5294 - mae: 1.9779\n",
            "Epoch 70/150\n",
            "13/13 [==============================] - 0s 20ms/step - loss: 1.5310 - mae: 1.9748\n",
            "Epoch 71/150\n",
            "13/13 [==============================] - 0s 19ms/step - loss: 1.5293 - mae: 1.9729\n",
            "Epoch 72/150\n",
            "13/13 [==============================] - 0s 19ms/step - loss: 1.5353 - mae: 1.9749\n",
            "Epoch 73/150\n",
            "13/13 [==============================] - 0s 21ms/step - loss: 1.5237 - mae: 1.9685\n",
            "Epoch 74/150\n",
            "13/13 [==============================] - 0s 18ms/step - loss: 1.5286 - mae: 1.9674\n",
            "Epoch 75/150\n",
            "13/13 [==============================] - 0s 19ms/step - loss: 1.5214 - mae: 1.9664\n",
            "Epoch 76/150\n",
            "13/13 [==============================] - 0s 20ms/step - loss: 1.5269 - mae: 1.9681\n",
            "Epoch 77/150\n",
            "13/13 [==============================] - 0s 20ms/step - loss: 1.5220 - mae: 1.9662\n",
            "Epoch 78/150\n",
            "13/13 [==============================] - 0s 18ms/step - loss: 1.5200 - mae: 1.9631\n",
            "Epoch 79/150\n",
            "13/13 [==============================] - 0s 19ms/step - loss: 1.5179 - mae: 1.9610\n",
            "Epoch 80/150\n",
            "13/13 [==============================] - 0s 18ms/step - loss: 1.5195 - mae: 1.9605\n",
            "Epoch 81/150\n",
            "13/13 [==============================] - 0s 20ms/step - loss: 1.5173 - mae: 1.9599\n",
            "Epoch 82/150\n",
            "13/13 [==============================] - 0s 18ms/step - loss: 1.5161 - mae: 1.9609\n",
            "Epoch 83/150\n",
            "13/13 [==============================] - 0s 18ms/step - loss: 1.5206 - mae: 1.9630\n",
            "Epoch 84/150\n",
            "13/13 [==============================] - 0s 19ms/step - loss: 1.5162 - mae: 1.9636\n",
            "Epoch 85/150\n",
            "13/13 [==============================] - 0s 20ms/step - loss: 1.5137 - mae: 1.9577\n",
            "Epoch 86/150\n",
            "13/13 [==============================] - 0s 19ms/step - loss: 1.5147 - mae: 1.9570\n",
            "Epoch 87/150\n",
            "13/13 [==============================] - 0s 19ms/step - loss: 1.5137 - mae: 1.9543\n",
            "Epoch 88/150\n",
            "13/13 [==============================] - 0s 19ms/step - loss: 1.5074 - mae: 1.9539\n",
            "Epoch 89/150\n",
            "13/13 [==============================] - 0s 19ms/step - loss: 1.5123 - mae: 1.9533\n",
            "Epoch 90/150\n",
            "13/13 [==============================] - 0s 18ms/step - loss: 1.5082 - mae: 1.9531\n",
            "Epoch 91/150\n",
            "13/13 [==============================] - 0s 18ms/step - loss: 1.5114 - mae: 1.9558\n",
            "Epoch 92/150\n",
            "13/13 [==============================] - 0s 18ms/step - loss: 1.5110 - mae: 1.9562\n",
            "Epoch 93/150\n",
            "13/13 [==============================] - 0s 18ms/step - loss: 1.5090 - mae: 1.9525\n",
            "Epoch 94/150\n",
            "13/13 [==============================] - 0s 18ms/step - loss: 1.5055 - mae: 1.9503\n",
            "Epoch 95/150\n",
            "13/13 [==============================] - 0s 19ms/step - loss: 1.5076 - mae: 1.9540\n",
            "Epoch 96/150\n",
            "13/13 [==============================] - 0s 19ms/step - loss: 1.5012 - mae: 1.9489\n",
            "Epoch 97/150\n",
            "13/13 [==============================] - 0s 19ms/step - loss: 1.5079 - mae: 1.9517\n",
            "Epoch 98/150\n",
            "13/13 [==============================] - 0s 20ms/step - loss: 1.5056 - mae: 1.9491\n",
            "Epoch 99/150\n",
            "13/13 [==============================] - 0s 20ms/step - loss: 1.5060 - mae: 1.9477\n",
            "Epoch 100/150\n",
            "13/13 [==============================] - 0s 19ms/step - loss: 1.5016 - mae: 1.9473\n",
            "Epoch 101/150\n",
            "13/13 [==============================] - 0s 19ms/step - loss: 1.5061 - mae: 1.9489\n",
            "Epoch 102/150\n",
            "13/13 [==============================] - 0s 19ms/step - loss: 1.5020 - mae: 1.9482\n",
            "Epoch 103/150\n",
            "13/13 [==============================] - 0s 19ms/step - loss: 1.5056 - mae: 1.9514\n",
            "Epoch 104/150\n",
            "13/13 [==============================] - 0s 20ms/step - loss: 1.5017 - mae: 1.9469\n",
            "Epoch 105/150\n",
            "13/13 [==============================] - 0s 20ms/step - loss: 1.5030 - mae: 1.9475\n",
            "Epoch 106/150\n",
            "13/13 [==============================] - 0s 18ms/step - loss: 1.5018 - mae: 1.9441\n",
            "Epoch 107/150\n",
            "13/13 [==============================] - 0s 19ms/step - loss: 1.4989 - mae: 1.9436\n",
            "Epoch 108/150\n",
            "13/13 [==============================] - 0s 19ms/step - loss: 1.5047 - mae: 1.9431\n",
            "Epoch 109/150\n",
            "13/13 [==============================] - 0s 19ms/step - loss: 1.4991 - mae: 1.9430\n",
            "Epoch 110/150\n",
            "13/13 [==============================] - 0s 20ms/step - loss: 1.4989 - mae: 1.9431\n",
            "Epoch 111/150\n",
            "13/13 [==============================] - 0s 19ms/step - loss: 1.4961 - mae: 1.9420\n",
            "Epoch 112/150\n",
            "13/13 [==============================] - 0s 20ms/step - loss: 1.4983 - mae: 1.9414\n",
            "Epoch 113/150\n",
            "13/13 [==============================] - 0s 20ms/step - loss: 1.5000 - mae: 1.9414\n",
            "Epoch 114/150\n",
            "13/13 [==============================] - 0s 19ms/step - loss: 1.4968 - mae: 1.9412\n",
            "Epoch 115/150\n",
            "13/13 [==============================] - 0s 18ms/step - loss: 1.4944 - mae: 1.9429\n",
            "Epoch 116/150\n",
            "13/13 [==============================] - 0s 19ms/step - loss: 1.4997 - mae: 1.9411\n",
            "Epoch 117/150\n",
            "13/13 [==============================] - 0s 20ms/step - loss: 1.5036 - mae: 1.9411\n",
            "Epoch 118/150\n",
            "13/13 [==============================] - 0s 18ms/step - loss: 1.4977 - mae: 1.9413\n",
            "Epoch 119/150\n",
            "13/13 [==============================] - 0s 19ms/step - loss: 1.4956 - mae: 1.9399\n",
            "Epoch 120/150\n",
            "13/13 [==============================] - 0s 19ms/step - loss: 1.4923 - mae: 1.9387\n",
            "Epoch 121/150\n",
            "13/13 [==============================] - 0s 19ms/step - loss: 1.4973 - mae: 1.9403\n",
            "Epoch 122/150\n",
            "13/13 [==============================] - 0s 18ms/step - loss: 1.4960 - mae: 1.9401\n",
            "Epoch 123/150\n",
            "13/13 [==============================] - 0s 18ms/step - loss: 1.4967 - mae: 1.9396\n",
            "Epoch 124/150\n",
            "13/13 [==============================] - 0s 19ms/step - loss: 1.4921 - mae: 1.9384\n",
            "Epoch 125/150\n",
            "13/13 [==============================] - 0s 19ms/step - loss: 1.4944 - mae: 1.9372\n",
            "Epoch 126/150\n",
            "13/13 [==============================] - 0s 19ms/step - loss: 1.4929 - mae: 1.9374\n",
            "Epoch 127/150\n",
            "13/13 [==============================] - 0s 18ms/step - loss: 1.4929 - mae: 1.9368\n",
            "Epoch 128/150\n",
            "13/13 [==============================] - 0s 17ms/step - loss: 1.4934 - mae: 1.9372\n",
            "Epoch 129/150\n",
            "13/13 [==============================] - 0s 19ms/step - loss: 1.4979 - mae: 1.9361\n",
            "Epoch 130/150\n",
            "13/13 [==============================] - 0s 20ms/step - loss: 1.4965 - mae: 1.9373\n",
            "Epoch 131/150\n",
            "13/13 [==============================] - 0s 18ms/step - loss: 1.4945 - mae: 1.9372\n",
            "Epoch 132/150\n",
            "13/13 [==============================] - 0s 19ms/step - loss: 1.4899 - mae: 1.9361\n",
            "Epoch 133/150\n",
            "13/13 [==============================] - 0s 19ms/step - loss: 1.4921 - mae: 1.9366\n",
            "Epoch 134/150\n",
            "13/13 [==============================] - 0s 18ms/step - loss: 1.4930 - mae: 1.9372\n",
            "Epoch 135/150\n",
            "13/13 [==============================] - 0s 18ms/step - loss: 1.4972 - mae: 1.9370\n",
            "Epoch 136/150\n",
            "13/13 [==============================] - 0s 19ms/step - loss: 1.4918 - mae: 1.9359\n",
            "Epoch 137/150\n",
            "13/13 [==============================] - 0s 19ms/step - loss: 1.4907 - mae: 1.9349\n",
            "Epoch 138/150\n",
            "13/13 [==============================] - 0s 18ms/step - loss: 1.4881 - mae: 1.9338\n",
            "Epoch 139/150\n",
            "13/13 [==============================] - 0s 19ms/step - loss: 1.4844 - mae: 1.9334\n",
            "Epoch 140/150\n",
            "13/13 [==============================] - 0s 20ms/step - loss: 1.4866 - mae: 1.9332\n",
            "Epoch 141/150\n",
            "13/13 [==============================] - 0s 18ms/step - loss: 1.4919 - mae: 1.9340\n",
            "Epoch 142/150\n",
            "13/13 [==============================] - 0s 18ms/step - loss: 1.4928 - mae: 1.9330\n",
            "Epoch 143/150\n",
            "13/13 [==============================] - 0s 19ms/step - loss: 1.4895 - mae: 1.9328\n",
            "Epoch 144/150\n",
            "13/13 [==============================] - 0s 18ms/step - loss: 1.4888 - mae: 1.9327\n",
            "Epoch 145/150\n",
            "13/13 [==============================] - 0s 19ms/step - loss: 1.4897 - mae: 1.9331\n",
            "Epoch 146/150\n",
            "13/13 [==============================] - 0s 19ms/step - loss: 1.4887 - mae: 1.9327\n",
            "Epoch 147/150\n",
            "13/13 [==============================] - 0s 19ms/step - loss: 1.4886 - mae: 1.9318\n",
            "Epoch 148/150\n",
            "13/13 [==============================] - 0s 19ms/step - loss: 1.4890 - mae: 1.9332\n",
            "Epoch 149/150\n",
            "13/13 [==============================] - 0s 20ms/step - loss: 1.4917 - mae: 1.9321\n",
            "Epoch 150/150\n",
            "13/13 [==============================] - 0s 20ms/step - loss: 1.4897 - mae: 1.9316\n"
          ],
          "name": "stdout"
        }
      ]
    },
    {
      "cell_type": "code",
      "metadata": {
        "id": "GaC6NNMRp0lb",
        "colab_type": "code",
        "colab": {}
      },
      "source": [
        "rnn_forecast = model_forecast(model, series[..., np.newaxis], window_size)\n",
        "rnn_forecast = rnn_forecast[split_time - window_size:-1, -1, 0]"
      ],
      "execution_count": 0,
      "outputs": []
    },
    {
      "cell_type": "code",
      "metadata": {
        "colab_type": "code",
        "id": "izy6wl2S9d-2",
        "outputId": "97d2ded4-12eb-4fca-f0ea-9ca941f11afb",
        "colab": {
          "base_uri": "https://localhost:8080/",
          "height": 389
        }
      },
      "source": [
        "plt.figure(figsize=(10, 6))\n",
        "plot_series(time_valid, x_valid)\n",
        "plot_series(time_valid, rnn_forecast)\n",
        "\n"
      ],
      "execution_count": 0,
      "outputs": [
        {
          "output_type": "display_data",
          "data": {
            "image/png": "[encoded data removed]",
            "text/plain": [
              "<Figure size 720x432 with 1 Axes>"
            ]
          },
          "metadata": {
            "tags": []
          }
        }
      ]
    },
    {
      "cell_type": "code",
      "metadata": {
        "id": "13XrorC5wQoE",
        "colab_type": "code",
        "outputId": "cc8c434d-2a93-47ab-fa32-87aecd9f2535",
        "colab": {
          "base_uri": "https://localhost:8080/",
          "height": 34
        }
      },
      "source": [
        "tf.keras.metrics.mean_absolute_error(x_valid, rnn_forecast).numpy()\n"
      ],
      "execution_count": 0,
      "outputs": [
        {
          "output_type": "execute_result",
          "data": {
            "text/plain": [
              "1.7881579"
            ]
          },
          "metadata": {
            "tags": []
          },
          "execution_count": 14
        }
      ]
    },
    {
      "cell_type": "code",
      "metadata": {
        "id": "AOVzQXxCwkzP",
        "colab_type": "code",
        "outputId": "4e553abe-3fef-4133-e9e3-0bdce40f755f",
        "colab": {
          "base_uri": "https://localhost:8080/",
          "height": 34
        }
      },
      "source": [
        "print(rnn_forecast)"
      ],
      "execution_count": 0,
      "outputs": [
        {
          "output_type": "stream",
          "text": [
            "[11.621631  10.945869  12.4215555 ... 13.768623  13.963027  15.12559  ]\n"
          ],
          "name": "stdout"
        }
      ]
    },
    {
      "cell_type": "code",
      "metadata": {
        "id": "Wi6exYa-Oq9S",
        "colab_type": "code",
        "colab": {}
      },
      "source": [
        ""
      ],
      "execution_count": 0,
      "outputs": []
    }
  ]
}